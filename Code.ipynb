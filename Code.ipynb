{
 "cells": [
  {
   "cell_type": "markdown",
   "id": "b7306c9b",
   "metadata": {},
   "source": [
    "# Random Walk’s Data Science Assessment\n"
   ]
  },
  {
   "cell_type": "markdown",
   "id": "65adb242",
   "metadata": {},
   "source": [
    "Provided are 3 CSV files books.csv, book_tags.csv and ratings.csv for the assessment.\n",
    "\n",
    "Candidate must create a jupyter notebook which processes the data provided in the CSV files to solve the following questions within the time limit provided.\n",
    "\n",
    "How many books do not have an original title [books.csv]?\n",
    "\n",
    "How many unique books are present in the dataset ? Evaluate based on the 'book_id' after removing records containing null values for original_title column in [books.csv] and corresponding records in [book_tags.csv] and [ratings.csv]\n",
    "\n",
    "How many unique users are present in the dataset [ratings.csv] ?\n",
    "\n",
    "How many unique tags are there in the dataset [book_tags.csv] ?\n",
    "\n",
    "Which tag_id is the most frequently used ie. mapped with the highest number of books [book_tags.csv] ? (In case of more than one tag, mention the tag id with the least numerical value)’.\n",
    "\n",
    "Which book (title) has the most number of counts of tags given by the user [book_tags.csv,books.csv] .\n",
    "\n",
    "Plot a bar chart with top 20 unique tags in descending order of ‘user records’ (the number of users tagged the given tag_id with the goodreads_book_id) [book_tags.csv]"
   ]
  },
  {
   "cell_type": "markdown",
   "id": "b0e76118",
   "metadata": {},
   "source": [
    "Required imports"
   ]
  },
  {
   "cell_type": "code",
   "execution_count": 6,
   "id": "63277190",
   "metadata": {},
   "outputs": [],
   "source": [
    "import pandas as pd\n",
    "import matplotlib.pyplot as plt"
   ]
  },
  {
   "cell_type": "markdown",
   "id": "d5557668",
   "metadata": {},
   "source": [
    "### Q1: How many books do not have an original title [books.csv]?\n",
    "### Ans: 36    "
   ]
  },
  {
   "cell_type": "code",
   "execution_count": 12,
   "id": "f226244d",
   "metadata": {},
   "outputs": [
    {
     "name": "stdout",
     "output_type": "stream",
     "text": [
      "The number of books that dont have orginal title: 36\n"
     ]
    }
   ],
   "source": [
    "dataframe=pd.read_csv('books.csv')\n",
    "no_og_title = dataframe['original_title'].isnull().sum()\n",
    "print('The number of books that dont have orginal title:',no_og_title)\n"
   ]
  },
  {
   "cell_type": "markdown",
   "id": "bc9a9d6e",
   "metadata": {},
   "source": [
    "### Q3: How many unique books are present in the dataset ? Evaluate based on the 'book_id' after removing null values in the original_title column.\n",
    "### Ans: The number of unique books present in dataset are : 363 books"
   ]
  },
  {
   "cell_type": "code",
   "execution_count": 13,
   "id": "493f0ea7",
   "metadata": {},
   "outputs": [
    {
     "name": "stdout",
     "output_type": "stream",
     "text": [
      "The number of unique books, based on the book_id column are:  363\n",
      "The number of unique values in book_id column 0\n"
     ]
    }
   ],
   "source": [
    "# dropna() is used to drop the rows that have null values\n",
    "clean_dataframe = dataframe.dropna(subset=['original_title'])\n",
    "n_unique_bookid=clean_dataframe['book_id'].nunique()\n",
    "print(\"The number of unique books, based on the book_id column are: \",n_unique_bookid)\n"
   ]
  },
  {
   "cell_type": "markdown",
   "id": "221127f0",
   "metadata": {},
   "source": [
    "### Q2 How many unique users are present in the dataset [ratings.csv] ?\n",
    "### Ans: 40836"
   ]
  },
  {
   "cell_type": "code",
   "execution_count": 15,
   "id": "5de5cd3a",
   "metadata": {},
   "outputs": [],
   "source": [
    "ratings_data=pd.read_csv('ratings.csv')"
   ]
  },
  {
   "cell_type": "code",
   "execution_count": 16,
   "id": "9519015d",
   "metadata": {},
   "outputs": [
    {
     "name": "stdout",
     "output_type": "stream",
     "text": [
      "The number of unique users, based on the user_id column are:  40836\n"
     ]
    }
   ],
   "source": [
    "n_unique_user=ratings_data['user_id'].nunique()\n",
    "print(\"The number of unique users, based on the user_id column are: \",n_unique_user)"
   ]
  },
  {
   "cell_type": "markdown",
   "id": "6225674a",
   "metadata": {},
   "source": [
    "###  Q3 How many unique tags are there in the dataset [book_tags.csv] ?\n",
    "### Ans: The number of unique tag, based on the tag_id column are:  3651\n"
   ]
  },
  {
   "cell_type": "code",
   "execution_count": 19,
   "id": "2da6c4c9",
   "metadata": {},
   "outputs": [],
   "source": [
    "tags_data=pd.read_csv('book_tags.csv')"
   ]
  },
  {
   "cell_type": "code",
   "execution_count": 20,
   "id": "1f2c939d",
   "metadata": {},
   "outputs": [
    {
     "name": "stdout",
     "output_type": "stream",
     "text": [
      "The number of unique tag, based on the tag_id column are:  3651\n"
     ]
    }
   ],
   "source": [
    "n_unique_tag=tags_data['tag_id'].nunique()\n",
    "print(\"The number of unique tag, based on the tag_id column are: \",n_unique_tag)"
   ]
  },
  {
   "cell_type": "markdown",
   "id": "86c16cd8",
   "metadata": {},
   "source": [
    "### Q4:Which tag_id is the most frequently used ie. mapped with the highest number of books [book_tags.csv] ? (In case of more than one tag, mention the tag id with the least numerical value)’.\n",
    "### Ans: Most frequently used tag_id e is  4600"
   ]
  },
  {
   "cell_type": "code",
   "execution_count": 23,
   "id": "18797365",
   "metadata": {},
   "outputs": [
    {
     "name": "stdout",
     "output_type": "stream",
     "text": [
      "Most frequently used tag is  4600\n"
     ]
    }
   ],
   "source": [
    "tag_counts = tags_data['tag_id'].value_counts()\n",
    "\n",
    "# Find the tag_id with the highest count (most frequently used)\n",
    "fq_tag_id = tag_counts.idxmax()\n",
    "fq_tag_id = min(tag_counts[tag_counts == tag_counts.max()].index)\n",
    "print(\"Most frequently used tag is \",fq_tag_id)"
   ]
  },
  {
   "cell_type": "markdown",
   "id": "b902420a",
   "metadata": {},
   "source": [
    "### Q5: Which book (title) has the most number of counts of tags given by the user [book_tags.csv,books.csv] .\n",
    "\n",
    "### Ans: 'Another Bullshit Night in Suck City'"
   ]
  },
  {
   "cell_type": "code",
   "execution_count": 24,
   "id": "e56fe0b3",
   "metadata": {},
   "outputs": [
    {
     "name": "stdout",
     "output_type": "stream",
     "text": [
      "Most frequently used goodreads_id is  386\n"
     ]
    }
   ],
   "source": [
    "gr_counts = tags_data['goodreads_book_id'].value_counts()\n",
    "\n",
    "# Find the tag_id with the highest count (most frequently used)\n",
    "fq_gr_id = gr_counts.idxmax()\n",
    "fq_gr_id = min(gr_counts[gr_counts == gr_counts.max()].index)\n",
    "print(\"Most frequently used goodreads_id is \",fq_gr_id)"
   ]
  },
  {
   "cell_type": "code",
   "execution_count": 28,
   "id": "2d9314e4",
   "metadata": {},
   "outputs": [
    {
     "name": "stdout",
     "output_type": "stream",
     "text": [
      "Which book (title) has the most number of counts of tags given by the user  ['Another Bullshit Night in Suck City']\n"
     ]
    }
   ],
   "source": [
    "result = dataframe.loc[dataframe['goodreads_book_id'] == fq_gr_id, 'title']\n",
    "print(\"Which book (title) has the most number of counts of tags given by the user \",result.values)"
   ]
  },
  {
   "cell_type": "markdown",
   "id": "7c1130f3",
   "metadata": {},
   "source": [
    "### Q6:  Plot a bar chart with top 20 unique tags in descending order of ‘user records’ (the number of users tagged the given tag_id with the goodreads_book_id) [book_tags.csv]\n"
   ]
  },
  {
   "cell_type": "code",
   "execution_count": 29,
   "id": "8c05df2b",
   "metadata": {},
   "outputs": [
    {
     "data": {
      "image/png": "[encoded data removed]",
      "text/plain": [
       "<Figure size 1000x600 with 1 Axes>"
      ]
     },
     "metadata": {},
     "output_type": "display_data"
    }
   ],
   "source": [
    "book_tags_df = pd.read_csv('book_tags.csv')\n",
    "\n",
    "tag_user_counts = book_tags_df.groupby('tag_id')['count'].sum()\n",
    "\n",
    "top_20_tags = tag_user_counts.sort_values(ascending=False).head(20)\n",
    "\n",
    "plt.figure(figsize=(10, 6))\n",
    "top_20_tags.plot(kind='bar', color='skyblue')\n",
    "plt.title('Top 20 Tags by User Records')\n",
    "plt.xlabel('Tag ID')\n",
    "plt.ylabel('User Records')\n",
    "plt.xticks(rotation=45, ha='right')  \n",
    "plt.tight_layout()\n",
    "plt.show()"
   ]
  },
  {
   "cell_type": "code",
   "execution_count": null,
   "id": "ce62adc2",
   "metadata": {},
   "outputs": [],
   "source": []
  }
 ],
 "metadata": {
  "kernelspec": {
   "display_name": "Python 3 (ipykernel)",
   "language": "python",
   "name": "python3"
  },
  "language_info": {
   "codemirror_mode": {
    "name": "ipython",
    "version": 3
   },
   "file_extension": ".py",
   "mimetype": "text/x-python",
   "name": "python",
   "nbconvert_exporter": "python",
   "pygments_lexer": "ipython3",
   "version": "3.11.4"
  }
 },
 "nbformat": 4,
 "nbformat_minor": 5
}
